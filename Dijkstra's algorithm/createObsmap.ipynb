{
 "cells": [
  {
   "cell_type": "code",
   "execution_count": 245,
   "metadata": {
    "scrolled": true
   },
   "outputs": [],
   "source": [
    "import math\n",
    "import cv2\n",
    "import numpy as np\n",
    "import sys\n",
    "import numpy\n",
    "numpy.set_printoptions(threshold=sys.maxsize)\n",
    "import matplotlib.pyplot as plt"
   ]
  },
  {
   "cell_type": "code",
   "execution_count": 246,
   "metadata": {},
   "outputs": [],
   "source": [
    "def checkObs(x,y):\n",
    "    #     Circle\n",
    "    circle = (x-225)**2 + (y-150)**2 -(25**2)\n",
    "    if circle <=0:\n",
    "        return 1\n",
    "    \n",
    "    ellipse= ((x-150)/40)**2 + ((y-100)/20)**2 -1\n",
    "    if ellipse<=0:\n",
    "            return 1\n",
    "    \n",
    "    \n",
    "    # rhombus\n",
    "    A = [225,10]\n",
    "    B = [250,15]\n",
    "    C = [225,40]\n",
    "    D = [200,15]\n",
    "    l1 = (B[0]-A[0])*(y-A[1])-(B[1]-A[1])*(x-A[0])\n",
    "    l2 = (C[0]-B[0])*(y-B[1])-(C[1]-B[1])*(x-B[0])\n",
    "    l3 = (D[0]-C[0])*(y-C[1])-(D[1]-C[1])*(x-C[0])\n",
    "    l4 = (A[0]-D[0])*(y-D[1])-(A[1]-D[1])*(x-D[0])\n",
    "    if l1 <= 0 and l2 >= 0 and l3 >= 0 and l4 >= 0 :\n",
    "        return 1\n",
    "    \n",
    "    # Rectangle \n",
    "    \n",
    "#     # Polygon Split into 4 triangles by lines M1,M2,M3\n",
    "#     #vertices\n",
    "#     P1=(20,120)\n",
    "#     P2=(50,150)\n",
    "#     P3=(75,120)\n",
    "#     P4=(100,150)\n",
    "#     P5=(75,185)\n",
    "#     P6=(25,185)\n",
    "#     #sides\n",
    "#     LP1=(P1[0]-P2[0])*(y-P1[1])-(P2[1]-P1[1])*(x-P2[0])\n",
    "#     LP2=(P2[0]-P3[0])*(y-P3[1])-(P2[1]-P3[1])*(x-P3[0])\n",
    "#     LP3=(P3[0]-P4[0])*(y-P4[1])-(P3[1]-P4[1])*(x-P4[0])\n",
    "#     LP4=(P4[0]-P5[0])*(y-P5[1])-(P4[1]-P5[1])*(x-P5[0])\n",
    "#     LP5=(P5[0]-P6[0])*(y-P6[1])-(P5[1]-P6[1])*(x-P6[0])\n",
    "#     LP6=(P6[0]-P1[0])*(y-P1[1])-(P6[1]-P1[1])*(x-P1[0])\n",
    "#     #middle lines to seperate\n",
    "#     M1 = (P6[0]-P2[0])*(y-P6[1])-(P2[1]-P6[1])*(x-P2[0])\n",
    "#     M2 = (P5[0]-P2[0])*(y-P5[1])-(P2[1]-P5[1])*(x-P5[0])\n",
    "#     M3 = (P4[0]-P2[0])*(y-P4[1])-(P2[1]-P4[1])*(x-P2[0])\n",
    "\n",
    "#     #Triangle 1\n",
    "#     if LP1 <=0 and LP6 <= 0 and M1 >=0  :\n",
    "#         return 1\n",
    "#     #Triangle 2\n",
    "#     if LP5 <=0 and M2 <= 0 and M1 >=0  :\n",
    "#         return 1\n",
    "#     #Triangle 3\n",
    "#     if LP4 <=0 and M2 <= 0 and M3 >=0  :\n",
    "#         return 1\n",
    "#     #Triangle 4\n",
    "#     if LP2 <=0 and LP3 <= 0 and M3 <=0  :\n",
    "#         return 1\n",
    "\n",
    "    \n",
    "    return 0\n"
   ]
  },
  {
   "cell_type": "code",
   "execution_count": 247,
   "metadata": {},
   "outputs": [
    {
     "data": {
      "text/plain": [
       "<matplotlib.image.AxesImage at 0x20effbe97c8>"
      ]
     },
     "execution_count": 247,
     "metadata": {},
     "output_type": "execute_result"
    },
    {
     "data": {
      "image/png": "[encoded data removed]",
      "text/plain": [
       "<Figure size 432x288 with 1 Axes>"
      ]
     },
     "metadata": {
      "needs_background": "light"
     },
     "output_type": "display_data"
    }
   ],
   "source": [
    "a=np.zeros((200,300))\n",
    "for i in range(0,200):\n",
    "    for j in range(0,300):\n",
    "        Obs = checkObs(j,i)\n",
    "        #Obs = 1\n",
    "        if Obs ==1:\n",
    "            a[i][j]=1\n",
    "\n",
    "#print(a)\n",
    "\n",
    "\n",
    "\n",
    "plt.imshow(a)\n",
    "\n",
    "        \n",
    "            "
   ]
  },
  {
   "cell_type": "code",
   "execution_count": null,
   "metadata": {},
   "outputs": [],
   "source": []
  }
 ],
 "metadata": {
  "kernelspec": {
   "display_name": "Python 3",
   "language": "python",
   "name": "python3"
  },
  "language_info": {
   "codemirror_mode": {
    "name": "ipython",
    "version": 3
   },
   "file_extension": ".py",
   "mimetype": "text/x-python",
   "name": "python",
   "nbconvert_exporter": "python",
   "pygments_lexer": "ipython3",
   "version": "3.7.4"
  }
 },
 "nbformat": 4,
 "nbformat_minor": 2
}
